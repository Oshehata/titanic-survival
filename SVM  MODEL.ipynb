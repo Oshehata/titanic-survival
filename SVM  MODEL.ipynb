{
 "cells": [
  {
   "cell_type": "code",
   "execution_count": 180,
   "source": [
    "import numpy as np\r\n",
    "import matplotlib.pyplot as plt\r\n",
    "import pandas as pd"
   ],
   "outputs": [],
   "metadata": {}
  },
  {
   "cell_type": "code",
   "execution_count": 181,
   "source": [
    "trainset = pd.read_csv('train.csv')\r\n",
    "x_train = trainset[[\"Sex\",\"Age\",\"SibSp\",\"Pclass\",\"Parch\"]].values\r\n",
    "y_train = trainset.iloc[:, 1].values"
   ],
   "outputs": [],
   "metadata": {}
  },
  {
   "cell_type": "code",
   "execution_count": 182,
   "source": [
    "testset=pd.read_csv('test.csv')\r\n",
    "x_test = testset[[\"Sex\",\"Age\",\"SibSp\",\"Pclass\",\"Parch\"]].values\r\n",
    "y_test = testset.iloc[:, 1].values"
   ],
   "outputs": [],
   "metadata": {}
  },
  {
   "cell_type": "code",
   "execution_count": 183,
   "source": [
    "from sklearn.impute import SimpleImputer\r\n",
    "imputer = SimpleImputer(missing_values=np.nan, strategy='mean')\r\n",
    "imputer.fit(x_train[:, 1:2])\r\n",
    "x_train[:, 1:2] = imputer.transform(x_train[:, 1:2])\r\n",
    "imputer.fit(x_test[:, 1:2])\r\n",
    "x_test[:, 1:2] = imputer.transform(x_test[:, 1:2])\r\n"
   ],
   "outputs": [],
   "metadata": {}
  },
  {
   "cell_type": "code",
   "execution_count": 184,
   "source": [
    "\r\n",
    "from sklearn.preprocessing import LabelEncoder\r\n",
    "le = LabelEncoder()\r\n",
    "x_train[:,0] = le.fit_transform(x_train[:,0])\r\n",
    "x_test[:,0] = le.fit_transform(x_test[:,0])\r\n",
    "print(x_train[:,:])"
   ],
   "outputs": [
    {
     "output_type": "stream",
     "name": "stdout",
     "text": [
      "[[1 22.0 1 3 0]\n",
      " [0 38.0 1 1 0]\n",
      " [0 26.0 0 3 0]\n",
      " ...\n",
      " [0 29.69911764705882 1 3 2]\n",
      " [1 26.0 0 1 0]\n",
      " [1 32.0 0 3 0]]\n"
     ]
    }
   ],
   "metadata": {}
  },
  {
   "cell_type": "code",
   "execution_count": 185,
   "source": [
    "from sklearn.preprocessing import StandardScaler\r\n",
    "sc = StandardScaler()\r\n",
    "x_train = sc.fit_transform(x_train)\r\n",
    "x_test = sc.transform(x_test)\r\n"
   ],
   "outputs": [],
   "metadata": {}
  },
  {
   "cell_type": "code",
   "execution_count": 186,
   "source": [
    "from sklearn.svm import SVC\r\n",
    "classifier = SVC(kernel = 'rbf', random_state = 0,C=1,gamma=0.1)\r\n",
    "classifier.fit(x_train, y_train)"
   ],
   "outputs": [
    {
     "output_type": "execute_result",
     "data": {
      "text/plain": [
       "SVC(C=1, gamma=0.1, random_state=0)"
      ]
     },
     "metadata": {},
     "execution_count": 186
    }
   ],
   "metadata": {}
  },
  {
   "cell_type": "code",
   "execution_count": 187,
   "source": [
    "from sklearn.model_selection import GridSearchCV\r\n",
    "parameters = [{'C': [0.25, 0.5, 0.75, 1], 'kernel': ['linear']},\r\n",
    "              {'C': [0.25, 0.5, 0.75, 1], 'kernel': ['rbf'], 'gamma': [0.1, 0.2, 0.3, 0.4, 0.5, 0.6, 0.7, 0.8, 0.9]}]\r\n",
    "grid_search = GridSearchCV(estimator = classifier,\r\n",
    "                           param_grid = parameters,\r\n",
    "                           scoring = 'accuracy',\r\n",
    "                           cv = 10,\r\n",
    "                           n_jobs = -1)\r\n",
    "grid_search.fit(x_train, y_train)\r\n",
    "best_accuracy = grid_search.best_score_\r\n",
    "best_parameters = grid_search.best_params_\r\n",
    "print(\"Best Accuracy: {:.2f} %\".format(best_accuracy*100))\r\n",
    "print(\"Best Parameters:\", best_parameters)"
   ],
   "outputs": [
    {
     "output_type": "stream",
     "name": "stdout",
     "text": [
      "Best Accuracy: 82.72 %\n",
      "Best Parameters: {'C': 1, 'gamma': 0.1, 'kernel': 'rbf'}\n"
     ]
    }
   ],
   "metadata": {}
  },
  {
   "cell_type": "code",
   "execution_count": 188,
   "source": [
    "y_pred = classifier.predict(x_test)\r\n"
   ],
   "outputs": [],
   "metadata": {}
  },
  {
   "cell_type": "code",
   "execution_count": 189,
   "source": [
    "from sklearn.metrics import confusion_matrix, accuracy_score\r\n",
    "y_pred = classifier.predict(x_test)\r\n",
    "cm = confusion_matrix(y_test, y_pred)\r\n",
    "print(cm)\r\n",
    "accuracy_score(y_test, y_pred)"
   ],
   "outputs": [
    {
     "output_type": "stream",
     "name": "stdout",
     "text": [
      "[[  0   0   0   0]\n",
      " [ 56  51   0   0]\n",
      " [ 61  32   0   0]\n",
      " [146  72   0   0]]\n"
     ]
    },
    {
     "output_type": "execute_result",
     "data": {
      "text/plain": [
       "0.12200956937799043"
      ]
     },
     "metadata": {},
     "execution_count": 189
    }
   ],
   "metadata": {}
  },
  {
   "cell_type": "code",
   "execution_count": 190,
   "source": [
    "from sklearn.model_selection import cross_val_score\r\n",
    "accuracies = cross_val_score(estimator = classifier, X = x_train, y = y_train, cv = 10)\r\n",
    "print(\"Accuracy: {:.2f} %\".format(accuracies.mean()*100))\r\n",
    "print(\"Standard Deviation: {:.2f} %\".format(accuracies.std()*100))"
   ],
   "outputs": [
    {
     "output_type": "stream",
     "name": "stdout",
     "text": [
      "Accuracy: 82.72 %\n",
      "Standard Deviation: 3.05 %\n"
     ]
    }
   ],
   "metadata": {}
  },
  {
   "cell_type": "code",
   "execution_count": 191,
   "source": [
    "data={'PassengerId':testset[\"PassengerId\"].values,\r\n",
    "      'Survived':y_pred\r\n",
    "}\r\n",
    "df = pd.DataFrame(data, columns= ['PassengerId', 'Survived'])\r\n",
    "df.to_csv (r'C:\\Users\\osheh\\Desktop\\last.csv', index = False, header=True)"
   ],
   "outputs": [],
   "metadata": {}
  }
 ],
 "metadata": {
  "orig_nbformat": 4,
  "language_info": {
   "name": "python",
   "version": "3.9.1",
   "mimetype": "text/x-python",
   "codemirror_mode": {
    "name": "ipython",
    "version": 3
   },
   "pygments_lexer": "ipython3",
   "nbconvert_exporter": "python",
   "file_extension": ".py"
  },
  "kernelspec": {
   "name": "python3",
   "display_name": "Python 3.9.1 64-bit"
  },
  "interpreter": {
   "hash": "a88ed32c0f2fa089ee219a76d6caaea4df6f9350e8f1a3d01ce68fb032677060"
  }
 },
 "nbformat": 4,
 "nbformat_minor": 2
}